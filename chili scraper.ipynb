{
 "cells": [
  {
   "cell_type": "code",
   "execution_count": 125,
   "metadata": {
    "collapsed": true
   },
   "outputs": [],
   "source": [
    "import urllib2\n",
    "from BeautifulSoup import BeautifulSoup\n",
    "import time\n",
    "import pandas as pd"
   ]
  },
  {
   "cell_type": "code",
   "execution_count": 44,
   "metadata": {
    "collapsed": true
   },
   "outputs": [],
   "source": [
    "\n",
    "chili_url = 'http://allrecipes.com/recipes/173/soups-stews-and-chili/chili/'\n"
   ]
  },
  {
   "cell_type": "code",
   "execution_count": 45,
   "metadata": {
    "collapsed": false
   },
   "outputs": [],
   "source": [
    "chili_links = []\n",
    "for page in range(1,24):\n",
    "    #there are 23 pages of chili urls\n",
    "    chili_page = chili_url + \"?page=\" + str(page)\n",
    "    response = urllib2.urlopen(chili_page)\n",
    "    soup = BeautifulSoup(response.read())\n",
    "    \n",
    "    for link in soup.findAll('a'):\n",
    "        content = str(link.get('href'))\n",
    "        if (\"chili\"  in content) and (('recipe/') in content):\n",
    "            #these are individual recipes\n",
    "            chili_links.append(content)\n",
    "        \n",
    "    \n"
   ]
  },
  {
   "cell_type": "code",
   "execution_count": 51,
   "metadata": {
    "collapsed": false
   },
   "outputs": [
    {
     "name": "stdout",
     "output_type": "stream",
     "text": [
      "430\n"
     ]
    }
   ],
   "source": [
    "#I managed to get quite a few duplicates, but such is web scraping.  Let's dedupe my list\n",
    "\n",
    "print len(set(chili_links))\n",
    "\n",
    "chili_set = set(chili_links)"
   ]
  },
  {
   "cell_type": "code",
   "execution_count": 122,
   "metadata": {
    "collapsed": false
   },
   "outputs": [],
   "source": [
    "def recipe_from_url(url):\n",
    "    try:\n",
    "        response = urllib2.urlopen(url)\n",
    "        soup = BeautifulSoup(response.read())\n",
    "        #meta information\n",
    "        title = 'Unknown'\n",
    "        rating = 'Unknown'\n",
    "        reviews = 'Unknown'\n",
    "        description = 'Unknown'\n",
    "        cals = 'Unknown'\n",
    "        fat = 'Unknown'\n",
    "        carbs = 'Unknown'\n",
    "        protein = 'Unknown'\n",
    "        \n",
    "        title = soup.title.text.encode('utf-8')\n",
    "        rating = soup.find('meta', attrs={'itemprop':'ratingValue'})['content'].encode('utf-8')\n",
    "        reviews = soup.find('span', attrs={'class':'review-count'}).text.encode('utf-8')\n",
    "        description = soup.find('div', attrs={'class':'submitter__description'}).text.encode('utf-8')\n",
    "        cals = soup.find('li', attrs={'itemprop':'calories'}).text.encode('utf-8')\n",
    "        fat = soup.find('li', attrs={'itemprop':'fatContent'}).text.encode('utf-8')\n",
    "        carbs = soup.find('li', attrs={'itemprop':'carbohydrateContent'}).text.encode('utf-8')\n",
    "        protein = soup.find('li', attrs={'itemprop':'proteinContent'}).text.encode('utf-8')\n",
    "        #ingredients\n",
    "        ingredient_list = []\n",
    "        all_ingredients = soup.findAll('span', attrs={'itemprop':'ingredients'})\n",
    "        for i in all_ingredients:\n",
    "            ingredient_list.append(i.text.encode('utf-8'))\n",
    "            \n",
    "        return {'title':title, 'rating':rating, 'reviews':reviews, 'description':description, 'calories':cals,\n",
    "            'fat':fat, 'carbs':carbs, 'protein':protein, 'ingredients':ingredient_list}   \n",
    "    except:\n",
    "        print \"ERROR ON %s\" % url\n",
    "        return \"PARSE_ERROR\"\n",
    "    "
   ]
  },
  {
   "cell_type": "code",
   "execution_count": 123,
   "metadata": {
    "collapsed": false
   },
   "outputs": [
    {
     "name": "stdout",
     "output_type": "stream",
     "text": [
      "ERROR ON http://allrecipes.com/recipe/151205/jimmy-dean-hearty-holiday-chili/\n",
      "ERROR ON http://allrecipes.com/recipe/215228/simply-sensational-chili/\n",
      "ERROR ON http://allrecipes.com/recipe/222977/quick-and-healthy-turkey-chili/\n",
      "ERROR ON http://allrecipes.com/recipe/151628/2-bean-chili/\n"
     ]
    }
   ],
   "source": [
    "base_url = 'http://allrecipes.com'\n",
    "chili_recipe_list = []\n",
    "\n",
    "for path in chili_set:\n",
    "    chili_url = base_url + path\n",
    "    result = recipe_from_url(chili_url)\n",
    "    if result != \"PARSE_ERROR\":\n",
    "        chili_recipe_list.append(result)\n",
    "    time.sleep(3) # don't pound the OKCupid servers\n",
    "    "
   ]
  },
  {
   "cell_type": "code",
   "execution_count": 124,
   "metadata": {
    "collapsed": false
   },
   "outputs": [
    {
     "data": {
      "text/plain": [
       "426"
      ]
     },
     "execution_count": 124,
     "metadata": {},
     "output_type": "execute_result"
    }
   ],
   "source": [
    "len(chili_recipe_list)"
   ]
  },
  {
   "cell_type": "code",
   "execution_count": 126,
   "metadata": {
    "collapsed": true
   },
   "outputs": [],
   "source": [
    "chili_df = pd.DataFrame(chili_recipe_list)"
   ]
  },
  {
   "cell_type": "code",
   "execution_count": 129,
   "metadata": {
    "collapsed": false
   },
   "outputs": [],
   "source": [
    "chili_df.to_json(\"chili.json\")"
   ]
  },
  {
   "cell_type": "code",
   "execution_count": 130,
   "metadata": {
    "collapsed": true
   },
   "outputs": [],
   "source": [
    "chili_df.to_csv(\"chili_recipes.csv\", na_rep=\"NA\")"
   ]
  }
 ],
 "metadata": {
  "kernelspec": {
   "display_name": "Python 2",
   "language": "python",
   "name": "python2"
  },
  "language_info": {
   "codemirror_mode": {
    "name": "ipython",
    "version": 2
   },
   "file_extension": ".py",
   "mimetype": "text/x-python",
   "name": "python",
   "nbconvert_exporter": "python",
   "pygments_lexer": "ipython2",
   "version": "2.7.11"
  }
 },
 "nbformat": 4,
 "nbformat_minor": 0
}
